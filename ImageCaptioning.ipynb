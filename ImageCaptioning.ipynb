{
  "nbformat": 4,
  "nbformat_minor": 0,
  "metadata": {
    "colab": {
      "name": "ImageCaptioning",
      "provenance": [],
      "collapsed_sections": []
    },
    "language_info": {
      "codemirror_mode": {
        "name": "ipython",
        "version": 3
      },
      "file_extension": ".py",
      "mimetype": "text/x-python",
      "name": "python",
      "nbconvert_exporter": "python",
      "pygments_lexer": "ipython3",
      "version": "3.6.4"
    },
    "kernelspec": {
      "display_name": "Python 3",
      "language": "python",
      "name": "python3"
    },
    "accelerator": "GPU"
  },
  "cells": [
    {
      "cell_type": "code",
      "metadata": {
        "id": "3CtAX29-E1dt",
        "colab_type": "code",
        "colab": {}
      },
      "source": [
        "import numpy as np\n",
        "import json\n",
        "from sklearn.model_selection import train_test_split\n",
        "\n",
        "import torchtext\n",
        "from torchtext.data import Field, BucketIterator, TabularDataset\n",
        "from torchtext import vocab\n",
        "import torch\n",
        "import torch.nn as nn\n",
        "import torch.nn.functional as F\n",
        "\n",
        "import os\n",
        "from random import choice\n",
        "import random\n",
        "import pandas as pd\n",
        "import itertools\n",
        "random.seed(42)"
      ],
      "execution_count": 1,
      "outputs": []
    },
    {
      "cell_type": "code",
      "metadata": {
        "id": "pQ4xcMyBURTH",
        "colab_type": "code",
        "colab": {
          "base_uri": "https://localhost:8080/",
          "height": 124
        },
        "outputId": "da4485f6-a9d5-497b-9b3b-bfce84a4ada9"
      },
      "source": [
        "from google.colab import drive\n",
        "drive.mount('/content/drive')"
      ],
      "execution_count": 3,
      "outputs": [
        {
          "output_type": "stream",
          "text": [
            "Go to this URL in a browser: https://accounts.google.com/o/oauth2/auth?client_id=947318989803-6bn6qk8qdgf4n4g3pfee6491hc0brc4i.apps.googleusercontent.com&redirect_uri=urn%3aietf%3awg%3aoauth%3a2.0%3aoob&response_type=code&scope=email%20https%3a%2f%2fwww.googleapis.com%2fauth%2fdocs.test%20https%3a%2f%2fwww.googleapis.com%2fauth%2fdrive%20https%3a%2f%2fwww.googleapis.com%2fauth%2fdrive.photos.readonly%20https%3a%2f%2fwww.googleapis.com%2fauth%2fpeopleapi.readonly\n",
            "\n",
            "Enter your authorization code:\n",
            "··········\n",
            "Mounted at /content/drive\n"
          ],
          "name": "stdout"
        }
      ]
    },
    {
      "cell_type": "code",
      "metadata": {
        "id": "LOIyct-ItmOk",
        "colab_type": "code",
        "colab": {}
      },
      "source": [
        "\n",
        "# загружаем датасет\n",
        "img_codes = np.load(\"/content/drive/My Drive/Stepik_Mipt/Image captioning/data/data/image_codes.npy\")\n",
        "captions = json.load(open('/content/drive/My Drive/Stepik_Mipt/Image captioning/data/data/captions_tokenized.json'))"
      ],
      "execution_count": 4,
      "outputs": []
    },
    {
      "cell_type": "code",
      "metadata": {
        "id": "om6GHAEdtmOu",
        "colab_type": "code",
        "colab": {
          "base_uri": "https://localhost:8080/",
          "height": 208
        },
        "outputId": "af3d84b0-a808-42e3-f6a3-903bd9238555"
      },
      "source": [
        "# посмотрим на датасет\n",
        "print(\"Each image code is a 2048-unit vector [ shape: %s ]\" % str(img_codes.shape))\n",
        "print(img_codes[0,:10], end='\\n\\n')\n",
        "print(\"For each image there are 5 reference captions, e.g.:\\n\")\n",
        "print('\\n'.join(captions[0]))"
      ],
      "execution_count": 5,
      "outputs": [
        {
          "output_type": "stream",
          "text": [
            "Each image code is a 2048-unit vector [ shape: (118287, 2048) ]\n",
            "[0.3659946  0.2016555  0.9245725  0.57063824 0.547268   0.8275868\n",
            " 0.3687277  0.12085301 0.0561931  0.49758485]\n",
            "\n",
            "For each image there are 5 reference captions, e.g.:\n",
            "\n",
            "people shopping in an open market for vegetables .\n",
            "an open market full of people and piles of vegetables .\n",
            "people are shopping at an open air produce market .\n",
            "large piles of carrots and potatoes at a crowded outdoor market .\n",
            "people shop for vegetables like carrots and potatoes at an open air market .\n"
          ],
          "name": "stdout"
        }
      ]
    },
    {
      "cell_type": "code",
      "metadata": {
        "id": "NRC58Rw7wRIq",
        "colab_type": "code",
        "colab": {}
      },
      "source": [
        "# Flatten captions\n",
        "flatten_captions = [sent for cap in captions for sent in cap]"
      ],
      "execution_count": 6,
      "outputs": []
    },
    {
      "cell_type": "code",
      "metadata": {
        "id": "xhhaBsRhR22i",
        "colab_type": "code",
        "colab": {}
      },
      "source": [
        "# Default word tokens\n",
        "PAD_token = 0  # Used for padding short sentences\n",
        "SOS_token = 1  # Start-of-sentence token\n",
        "EOS_token = 2  # End-of-sentence token\n",
        "\n",
        "class Voc:\n",
        "    def __init__(self, trimmed=True):\n",
        "\n",
        "        self.trimmed = trimmed\n",
        "        self.word2index = {\"PAD\": PAD_token, \"SOS\": SOS_token, \"EOS\": EOS_token}\n",
        "        self.word2count = {}\n",
        "        self.index2word = {PAD_token: \"PAD\", SOS_token: \"SOS\", EOS_token: \"EOS\"}\n",
        "        self.num_words = 3  # Count SOS, EOS, PAD\n",
        "\n",
        "    def addSentence(self, sentence):\n",
        "        for word in sentence.split(' '):\n",
        "            self.addWord(word)\n",
        "\n",
        "    def addWord(self, word):\n",
        "        if word not in self.word2index:\n",
        "            self.word2index[word] = self.num_words\n",
        "            self.word2count[word] = 1\n",
        "            self.index2word[self.num_words] = word\n",
        "            self.num_words += 1\n",
        "        else:\n",
        "            self.word2count[word] += 1\n",
        "\n",
        "    # Remove words below a certain count threshold\n",
        "    def trim(self, min_count):\n",
        "\n",
        "        keep_words = []\n",
        "\n",
        "        for k, v in self.word2count.items():\n",
        "            if v >= min_count:\n",
        "                keep_words.append(k)\n",
        "\n",
        "        print('keep_words {} / {} = {:.4f}'.format(\n",
        "            len(keep_words), len(self.word2index), len(keep_words) / len(self.word2index)\n",
        "        ))\n",
        "\n",
        "        # Reinitialize dictionaries\n",
        "        self.word2index = {\"PAD\": PAD_token, \"SOS\": SOS_token, \"EOS\": EOS_token}\n",
        "        self.word2count = {}\n",
        "        self.index2word = {PAD_token: \"PAD\", SOS_token: \"SOS\", EOS_token: \"EOS\"}\n",
        "        self.num_words = 3 # Count default tokens\n",
        "\n",
        "        for word in keep_words:\n",
        "            self.addWord(word)"
      ],
      "execution_count": 7,
      "outputs": []
    },
    {
      "cell_type": "code",
      "metadata": {
        "id": "B8J6B7542Ubi",
        "colab_type": "code",
        "colab": {}
      },
      "source": [
        "def zeroPadding(l, fillvalue=PAD_token, fix_length=15):\n",
        "\n",
        "    # Consider EOS and SOS tokens\n",
        "    length = fix_length+2\n",
        "    \n",
        "    new_l = []\n",
        "    for i in l:\n",
        "        new = i + [PAD_token] * (length-len(i))\n",
        "        new_l.append(new[:length])\n",
        "    # return list(itertools.zip_longest(*l, fillvalue=fillvalue))\n",
        "    return new_l"
      ],
      "execution_count": 8,
      "outputs": []
    },
    {
      "cell_type": "code",
      "metadata": {
        "id": "ehNNW2Bc2We6",
        "colab_type": "code",
        "colab": {}
      },
      "source": [
        "def indexesFromSentence(voc, sentence):\n",
        "    return [SOS_token] + [voc.word2index[word] for word in sentence.split(' ')] + [EOS_token]\n",
        "\n",
        "def inputVar(l, voc):\n",
        "    indexes_batch = [indexesFromSentence(voc, sentence) for sentence in l]\n",
        "    # lengths = torch.tensor([len(indexes) for indexes in indexes_batch])\n",
        "    padList = zeroPadding(indexes_batch)\n",
        "    # padVar = torch.LongTensor(padList)\n",
        "    return padList"
      ],
      "execution_count": 9,
      "outputs": []
    },
    {
      "cell_type": "code",
      "metadata": {
        "id": "BVBSpRVBSMf2",
        "colab_type": "code",
        "colab": {}
      },
      "source": [
        "# Init Vocabulary \n",
        "CAP_VOC = Voc()\n",
        "\n",
        "# Create Vocabulary in loop\n",
        "for pair in flatten_captions:\n",
        "      CAP_VOC.addSentence(pair)\n",
        "\n",
        "# Choose word frequency treshold\n",
        "# CAP_VOC.trim(5)"
      ],
      "execution_count": 10,
      "outputs": []
    },
    {
      "cell_type": "code",
      "metadata": {
        "id": "xWkV92vXt5Pe",
        "colab_type": "code",
        "colab": {}
      },
      "source": [
        "def trimRareWords(voc, data, MIN_COUNT, img_codes):\n",
        "    # Trim words used under the MIN_COUNT from the voc\n",
        "    voc.trim(MIN_COUNT)\n",
        "    # Filter out pairs with trimmed words\n",
        "    keep = []\n",
        "    for idx, item in enumerate(data):\n",
        "        new_item = list()\n",
        "        input_sentence_1 = item[0]\n",
        "        input_sentence_2 = item[1]\n",
        "        input_sentence_3 = item[2]\n",
        "        input_sentence_4 = item[3]\n",
        "        input_sentence_5 = item[4]\n",
        "        keep_input_1 = True\n",
        "        keep_input_2 = True\n",
        "        keep_input_3 = True\n",
        "        keep_input_4 = True\n",
        "        keep_input_5 = True\n",
        "\n",
        "        # Check input sentence\n",
        "        for word in input_sentence_1.split(' '):\n",
        "            if word not in voc.word2index:\n",
        "                keep_input_1 = False\n",
        "                break\n",
        "        # Check output sentence\n",
        "        for word in input_sentence_2.split(' '):\n",
        "            if word not in voc.word2index:\n",
        "                keep_input_2 = False\n",
        "                break\n",
        "\n",
        "        # Check input sentence\n",
        "        for word in input_sentence_3.split(' '):\n",
        "            if word not in voc.word2index:\n",
        "                keep_input_3 = False\n",
        "                break\n",
        "        # Check output sentence\n",
        "        for word in input_sentence_4.split(' '):\n",
        "            if word not in voc.word2index:\n",
        "                keep_input_4 = False\n",
        "                break\n",
        "                # Check input sentence\n",
        "        for word in input_sentence_5.split(' '):\n",
        "            if word not in voc.word2index:\n",
        "                keep_input_5 = False\n",
        "                break\n",
        "        \n",
        "\n",
        "        # Only keep pairs that do not contain trimmed word(s) in their input or output sentence\n",
        "        \n",
        "        if keep_input_1:\n",
        "            new_item.append(input_sentence_1) \n",
        "        if keep_input_2:\n",
        "            new_item.append(input_sentence_2) \n",
        "        if keep_input_3:\n",
        "            new_item.append(input_sentence_3) \n",
        "        if keep_input_4:\n",
        "            new_item.append(input_sentence_4) \n",
        "        if keep_input_5:\n",
        "            new_item.append(input_sentence_5) \n",
        "        \n",
        "\n",
        "        if len(new_item) == 0:\n",
        "            img_codes = np.delete(img_codes, idx, axis=0)\n",
        "            continue\n",
        "        keep.append(new_item) \n",
        "\n",
        "\n",
        "    print(\"Trimmed from {} pairs to {}, {:.4f} of total\".format(len(data), len(keep), len(keep) / len(data)))\n",
        "    return np.array(keep), img_codes"
      ],
      "execution_count": 11,
      "outputs": []
    },
    {
      "cell_type": "code",
      "metadata": {
        "id": "PnJ7kJtWt8gm",
        "colab_type": "code",
        "colab": {
          "base_uri": "https://localhost:8080/",
          "height": 52
        },
        "outputId": "9c4d3866-0bba-4c39-d115-b52223aa0dd1"
      },
      "source": [
        "captions, img_codes = trimRareWords(voc=CAP_VOC, data=captions, MIN_COUNT=5, img_codes=img_codes)"
      ],
      "execution_count": 13,
      "outputs": [
        {
          "output_type": "stream",
          "text": [
            "keep_words 10399 / 29417 = 0.3535\n",
            "Trimmed from 118287 pairs to 118275, 0.9999 of total\n"
          ],
          "name": "stdout"
        }
      ]
    },
    {
      "cell_type": "code",
      "metadata": {
        "id": "pNRgE8PZ7kSB",
        "colab_type": "code",
        "colab": {}
      },
      "source": [
        "# batch generator. Можно заменить на свой/переделать этот\n",
        "from random import choice\n",
        "\n",
        "def generate_batch(img_codes, captions, batch_size, max_caption_len=None):\n",
        "    \n",
        "    #sample random numbers for image/caption indicies\n",
        "    # print(\"Length img_codes: \", len(img_codes))\n",
        "    random_image_ix = np.random.randint(0, len(img_codes), size=batch_size)\n",
        "    \n",
        "    # print(\"random_image_ix: \", random_image_ix)\n",
        "    #get images\n",
        "    batch_images = img_codes[random_image_ix]\n",
        "    \n",
        "    #5-7 captions for each image\n",
        "    captions_for_batch_images = [captions[val] for val in random_image_ix.tolist()]\n",
        "    \n",
        "    #pick one from a set of captions for each image\n",
        "    batch_captions = list(map(choice,captions_for_batch_images))\n",
        "    \n",
        "    #convert to matrix\n",
        "    batch_captions_ix = inputVar(batch_captions, CAP_VOC)\n",
        "    \n",
        "    return torch.tensor(batch_images, dtype=torch.float32), torch.tensor(batch_captions_ix, dtype=torch.int64)\n",
        "    "
      ],
      "execution_count": 14,
      "outputs": []
    },
    {
      "cell_type": "markdown",
      "metadata": {
        "id": "jxgRFB72V9fS",
        "colab_type": "text"
      },
      "source": [
        "### Split dataset in train/eval\n"
      ]
    },
    {
      "cell_type": "code",
      "metadata": {
        "id": "d_A7i0NuH7r4",
        "colab_type": "code",
        "colab": {}
      },
      "source": [
        "from sklearn.model_selection import train_test_split\n",
        "captions = np.array(captions)\n",
        "train_img_codes, val_img_codes, train_captions, val_captions = train_test_split(img_codes, captions,\n",
        "                                                                                test_size=0.1,\n",
        "                                                                                random_state=42)"
      ],
      "execution_count": 16,
      "outputs": []
    },
    {
      "cell_type": "markdown",
      "metadata": {
        "id": "fnlxT5i77zHT",
        "colab_type": "text"
      },
      "source": [
        "## Caption net "
      ]
    },
    {
      "cell_type": "code",
      "metadata": {
        "id": "4uLhc27w71dt",
        "colab_type": "code",
        "colab": {}
      },
      "source": [
        "class CaptionNet(nn.Module):\n",
        "    def __init__(self, vocab_size: int, embed_size=128, hidden_size=256, num_layers=1, cnn_features_size=2048):\n",
        "        super(CaptionNet, self).__init__()\n",
        "        \n",
        "        # define the properties\n",
        "        self.embed_size = embed_size\n",
        "        self.hidden_size = hidden_size\n",
        "        self.vocab_size = vocab_size\n",
        "\n",
        "        # Linear layers to generate lstm initial state from image vector\n",
        "        self.cnn_to_h0 = nn.Linear(cnn_features_size, hidden_size)\n",
        "        self.cnn_to_c0 = nn.Linear(cnn_features_size, hidden_size)\n",
        "\n",
        "        # embedding layer for captions\n",
        "        self.embed_cap = nn.Embedding(num_embeddings=self.vocab_size, embedding_dim=self.embed_size)\n",
        "        \n",
        "        # lstm \n",
        "        self.lstm = nn.LSTM(input_size=embed_size, hidden_size=hidden_size, batch_first=True)\n",
        "    \n",
        "        # output fully connected layer\n",
        "        self.fc_out = nn.Linear(in_features=self.hidden_size, out_features=self.vocab_size)\n",
        "    \n",
        "        # activations\n",
        "        self.softmax = nn.Softmax(dim=1)\n",
        "\n",
        "    def forward(self, captions_ix, hidden):\n",
        "        \"\"\" \n",
        "        :param image_vectors: \n",
        "                inception output vector, shape: [batch, cnn_feature_size]\n",
        "        :param captions_ix: \n",
        "                image caption target, shape: [batch]\n",
        "        :returns: \n",
        "                logits for one time step, shape: [batch, word_i, n_tokens]; \n",
        "                hidden lstm state, shape: [batch, num_layers * num_directions, hidden_size]\n",
        "        \"\"\"\n",
        "\n",
        "        # Embed the captions \n",
        "        embedding_input = self.embed_cap(captions_ix.long()) # (N_batch, seq_len, emb_dim) = (32, 17, 128)    \n",
        "        embedding_input = embedding_input.unsqueeze(1)\n",
        "\n",
        "        # Feed captions embeddings and hidden states to lstm\n",
        "        lstm_out, hidden = self.lstm(embedding_input, hidden) # shape: [batch, caption_length, lstm_units]\n",
        "        \n",
        "        # Get logits from lstm output\n",
        "        logits = self.fc_out(lstm_out)\n",
        "        \n",
        "        return logits, hidden"
      ],
      "execution_count": 88,
      "outputs": []
    },
    {
      "cell_type": "code",
      "metadata": {
        "id": "qjPIsFSl82UK",
        "colab_type": "code",
        "colab": {
          "base_uri": "https://localhost:8080/",
          "height": 156
        },
        "outputId": "6eed059d-c2a3-4df9-de3f-b95595841f3b"
      },
      "source": [
        "# Define model\n",
        "n_tokens = CAP_VOC.num_words\n",
        "network2 = CaptionNet(n_tokens)\n",
        "\n",
        "# Move to CUDA\n",
        "assert torch.cuda.is_available()\n",
        "network2.cuda()"
      ],
      "execution_count": 89,
      "outputs": [
        {
          "output_type": "execute_result",
          "data": {
            "text/plain": [
              "CaptionNet(\n",
              "  (cnn_to_h0): Linear(in_features=2048, out_features=256, bias=True)\n",
              "  (cnn_to_c0): Linear(in_features=2048, out_features=256, bias=True)\n",
              "  (embed_cap): Embedding(10402, 128)\n",
              "  (lstm): LSTM(128, 256, batch_first=True)\n",
              "  (fc_out): Linear(in_features=256, out_features=10402, bias=True)\n",
              "  (softmax): Softmax(dim=1)\n",
              ")"
            ]
          },
          "metadata": {
            "tags": []
          },
          "execution_count": 89
        }
      ]
    },
    {
      "cell_type": "markdown",
      "metadata": {
        "id": "EkZIinMtVo-Q",
        "colab_type": "text"
      },
      "source": [
        "## Train model using train set"
      ]
    },
    {
      "cell_type": "code",
      "metadata": {
        "id": "yEQQ9Uso7kPC",
        "colab_type": "code",
        "colab": {}
      },
      "source": [
        "def train(batch_size, max_target_len, features, captions, model, criterion, optimizer, n_tokens, teacher_force_ratio=0.5):\n",
        "\n",
        "    # init the hidden and cell states to zeros\n",
        "    decoder_hidden = (torch.zeros((1, 1, model.hidden_size)).cuda(), torch.zeros((1, 1, model.hidden_size)).cuda())\n",
        "\n",
        "\n",
        "    # init output tensor \n",
        "    outputs = torch.empty((batch_size, captions.size(1), n_tokens)).cuda()\n",
        "\n",
        "    # Initial hidden: images vector\n",
        "    initial_cell = model.cnn_to_c0(features) # shape: (batch_size * 256)\n",
        "    initial_hid = model.cnn_to_h0(features) \n",
        "    decoder_hidden = (initial_hid.unsqueeze(0), initial_cell.unsqueeze(0))\n",
        "\n",
        "    # First input: <SOS> tokens\n",
        "    t_captions = captions[:, 0]\n",
        "\n",
        "    # Zero the gradients\n",
        "    optimizer.zero_grad()\n",
        "\n",
        "    # Pass the caption word by word\n",
        "    for t in range(1, max_target_len): # TODO: max_target_len --> captions.size(1)\n",
        "        \n",
        "        # Forward batch of sequences through decoder one time step at a time\n",
        "        decoder_output_logits, decoder_hidden = model(captions_ix=t_captions, hidden=decoder_hidden)\n",
        "\n",
        "        # Get one time step at a time (all_time_steps=max_target_len=17)\n",
        "        t_captions = captions[:, t]\n",
        "\n",
        "        # Fullfill output tensor with decoder outputs\n",
        "        outputs[:, t, :] = decoder_output_logits.squeeze(1)\n",
        "       \n",
        "        # Teacher forcing: \n",
        "        teacher_force = random.random() < teacher_force_ratio\n",
        "\n",
        "        # Choose most probable word from vocabulary \n",
        "        top1 = decoder_output_logits.squeeze(1).max(1)[1]\n",
        "\n",
        "        # If teacher forcing: next input is current target. If no teacher forcing: next input is decoder's own current output\n",
        "        t_captions = (captions[:, t] if teacher_force else top1)\n",
        "        \n",
        "\n",
        "    # Calculate the batch loss\n",
        "    loss = criterion(outputs.view(-1, n_tokens), captions.contiguous().view(-1))\n",
        "    \n",
        "    # Backward pass\n",
        "    loss.backward()\n",
        "        \n",
        "    # Update the parameters in the optimizer\n",
        "    optimizer.step()\n",
        "\n",
        "    return loss\n"
      ],
      "execution_count": 90,
      "outputs": []
    },
    {
      "cell_type": "code",
      "metadata": {
        "id": "x1ixSePi7kMI",
        "colab_type": "code",
        "colab": {}
      },
      "source": [
        "def trainIters(epoch, model, captions_train_set, images_train_set, batch_size, optimizer, criterion, max_target_len, n_tokens, teacher_force_ratio):\n",
        "\n",
        "    # epoch losses initializing\n",
        "    epoch_losses = list()\n",
        "\n",
        "    # Set model to train mode\n",
        "    model.train()\n",
        "    \n",
        "    # Init vars to accumulate losses\n",
        "    batch_loss = 0\n",
        "    loss_epoch = 0\n",
        "\n",
        "    # Calculate batches number\n",
        "    num_batches = len(captions_train_set)//batch_size\n",
        "\n",
        "    for batch in range(num_batches):\n",
        "        \n",
        "        imgs, caps = generate_batch(images_train_set, captions_train_set, batch_size, max_caption_len=None)\n",
        "\n",
        "        batch_loss = train(batch_size, max_target_len=max_target_len, features=imgs.cuda(), \n",
        "                           captions=caps.cuda(), model=model, criterion=criterion, optimizer=optimizer, n_tokens=n_tokens, \n",
        "                           teacher_force_ratio=teacher_force_ratio)\n",
        "        \n",
        "        epoch_losses.append(batch_loss.item())\n",
        "        \n",
        "    \n",
        "\n",
        "    # Calculate loss over one epoch\n",
        "    loss_epoch = sum(epoch_losses)/num_batches\n",
        "    print(\"Epoch {0} --->>> Train Loss {1}\".format(epoch, loss_epoch))"
      ],
      "execution_count": 94,
      "outputs": []
    },
    {
      "cell_type": "code",
      "metadata": {
        "id": "fAg6WPoGIQIF",
        "colab_type": "code",
        "colab": {}
      },
      "source": [
        "# Define optimizer and criterion\n",
        "optimizer2 = torch.optim.Adam(network2.parameters())\n",
        "\n",
        "criterion2 = nn.CrossEntropyLoss(ignore_index = PAD_token).cuda()"
      ],
      "execution_count": 95,
      "outputs": []
    },
    {
      "cell_type": "code",
      "metadata": {
        "id": "vD0NAPSL9Ul1",
        "colab_type": "code",
        "colab": {
          "base_uri": "https://localhost:8080/",
          "height": 104
        },
        "outputId": "bd736f03-3018-49dd-9566-e66d6b50f5b2"
      },
      "source": [
        "# Train model\n",
        "n_epochs = 5\n",
        "n_tokens = CAP_VOC.num_words\n",
        "for i in range(n_epochs):\n",
        "    trainIters(epoch=i, model=network2, captions_train_set=train_captions, images_train_set=train_img_codes, batch_size=32,\n",
        "               optimizer=optimizer2, criterion=criterion2, max_target_len=17, n_tokens=n_tokens, teacher_force_ratio=0.5)"
      ],
      "execution_count": 96,
      "outputs": [
        {
          "output_type": "stream",
          "text": [
            "Epoch 0 --->>> Train Loss 4.398982095058898\n",
            "Epoch 1 --->>> Train Loss 3.9631084212322087\n",
            "Epoch 2 --->>> Train Loss 3.8628774229045093\n",
            "Epoch 3 --->>> Train Loss 3.817699372374144\n",
            "Epoch 4 --->>> Train Loss 3.7676470329871896\n"
          ],
          "name": "stdout"
        }
      ]
    },
    {
      "cell_type": "markdown",
      "metadata": {
        "id": "zb2ASwiiVeVT",
        "colab_type": "text"
      },
      "source": [
        "## Evaluate model with evaluation set"
      ]
    },
    {
      "cell_type": "code",
      "metadata": {
        "id": "Z8W4S2mMGqEq",
        "colab_type": "code",
        "colab": {}
      },
      "source": [
        "def test(batch_size, max_target_len, features, captions, model, criterion, n_tokens, teacher_force_ratio=0.0):\n",
        "\n",
        "    # init the hidden and cell states to zeros\n",
        "    decoder_hidden = (torch.zeros((1, 1, model.hidden_size)).cuda(), torch.zeros((1, 1, model.hidden_size)).cuda())\n",
        "\n",
        "\n",
        "    # init output tensor \n",
        "    outputs = torch.empty((batch_size, captions.size(1), n_tokens)).cuda()\n",
        "\n",
        "    # Initial hidden: images vector\n",
        "    initial_cell = model.cnn_to_c0(features) # shape: (batch_size * 256)\n",
        "    initial_hid = model.cnn_to_h0(features) \n",
        "    decoder_hidden = (initial_hid.unsqueeze(0), initial_cell.unsqueeze(0))\n",
        "\n",
        "    # First input: <SOS> tokens\n",
        "    t_captions = captions[:, 0]\n",
        "\n",
        "\n",
        "    for t in range(1, max_target_len): # TODO: max_target_len --> captions.size(1)\n",
        "        \n",
        "\n",
        "        # Forward batch of sequences through decoder one time step at a time\n",
        "        decoder_output_logits, decoder_hidden = model(captions_ix=t_captions, hidden=decoder_hidden)\n",
        "\n",
        "        # Get one time step at a time (all_time_steps=max_target_len=17)\n",
        "        t_captions = captions[:, t]\n",
        "\n",
        "        outputs[:, t, :] = decoder_output_logits.squeeze(1)\n",
        "       \n",
        "        # Choose most probable word from vocabulary \n",
        "        top1 = decoder_output_logits.squeeze(1).max(1)[1]\n",
        "\n",
        "        # If teacher forcing: next input is current target. If no teacher forcing: next input is decoder's own current output\n",
        "        teacher_force = random.random() < teacher_force_ratio\n",
        "        t_captions = (captions[:, t] if teacher_force else top1)\n",
        "\n",
        "\n",
        "    # Calculate the batch loss\n",
        "    loss = criterion(outputs.view(-1, n_tokens), captions.contiguous().view(-1))\n",
        "    \n",
        "    return loss"
      ],
      "execution_count": 104,
      "outputs": []
    },
    {
      "cell_type": "code",
      "metadata": {
        "id": "vSKydY3zGspS",
        "colab_type": "code",
        "colab": {}
      },
      "source": [
        "def testIters(model, criterion, captions_test_set, images_test_set, batch_size, max_target_len, n_tokens, teacher_force_ratio):\n",
        "\n",
        "    # epoch losses initializing\n",
        "    epoch_losses = list()\n",
        "\n",
        "    model.eval()\n",
        "    \n",
        "    batch_loss = 0\n",
        "    loss_epoch = 0\n",
        "\n",
        "    num_batches = len(captions_test_set)//batch_size\n",
        "\n",
        "    with torch.no_grad():\n",
        "\n",
        "        for batch in range(num_batches):\n",
        "            \n",
        "            imgs, caps = generate_batch(images_test_set, captions_test_set, batch_size, max_caption_len=None)\n",
        "\n",
        "            batch_loss = test(batch_size, max_target_len=max_target_len, features=imgs.cuda(),\n",
        "                                      captions=caps.cuda(), model=model, criterion=criterion, n_tokens=n_tokens, teacher_force_ratio=teacher_force_ratio)\n",
        "            \n",
        "            epoch_losses.append(batch_loss.item())\n",
        "            \n",
        "        \n",
        "\n",
        "\n",
        "    loss_epoch = sum(epoch_losses)/num_batches\n",
        "    print(\"--->>> Test loss {0}\".format(loss_epoch))"
      ],
      "execution_count": 109,
      "outputs": []
    },
    {
      "cell_type": "code",
      "metadata": {
        "id": "zJXl5pW4BD8n",
        "colab_type": "code",
        "colab": {
          "base_uri": "https://localhost:8080/",
          "height": 35
        },
        "outputId": "3612873a-0484-4655-9483-76bbcb278357"
      },
      "source": [
        "# Model evaluation\n",
        "testIters(model=network2, criterion=criterion2, captions_test_set=val_captions, images_test_set=val_img_codes, batch_size=32, \n",
        "          max_target_len=17, n_tokens=n_tokens, teacher_force_ratio=0.0)"
      ],
      "execution_count": 110,
      "outputs": [
        {
          "output_type": "stream",
          "text": [
            "--->>> Test loss 4.723412929834712\n"
          ],
          "name": "stdout"
        }
      ]
    },
    {
      "cell_type": "markdown",
      "metadata": {
        "id": "71FNfxEpe45X",
        "colab_type": "text"
      },
      "source": [
        "## Load Inception model\n"
      ]
    },
    {
      "cell_type": "code",
      "metadata": {
        "id": "lCOLy8Tce0If",
        "colab_type": "code",
        "colab": {}
      },
      "source": [
        "import torch, torch.nn as nn\n",
        "import torch.nn.functional as F\n",
        "from torch.autograd import Variable\n",
        "from torchvision.models.inception import Inception3\n",
        "from warnings import warn\n",
        "\n",
        "class BeheadedInception3(Inception3):\n",
        "    \"\"\" Like torchvision.models.inception.Inception3 but the head goes separately \"\"\"\n",
        "    \n",
        "    def forward(self, x):\n",
        "        if self.transform_input:\n",
        "            x = x.clone()\n",
        "            x[:, 0] = x[:, 0] * (0.229 / 0.5) + (0.485 - 0.5) / 0.5\n",
        "            x[:, 1] = x[:, 1] * (0.224 / 0.5) + (0.456 - 0.5) / 0.5\n",
        "            x[:, 2] = x[:, 2] * (0.225 / 0.5) + (0.406 - 0.5) / 0.5\n",
        "        else: warn(\"Input isn't transformed\")\n",
        "        x = self.Conv2d_1a_3x3(x)\n",
        "        x = self.Conv2d_2a_3x3(x)\n",
        "        x = self.Conv2d_2b_3x3(x)\n",
        "        x = F.max_pool2d(x, kernel_size=3, stride=2)\n",
        "        x = self.Conv2d_3b_1x1(x)\n",
        "        x = self.Conv2d_4a_3x3(x)\n",
        "        x = F.max_pool2d(x, kernel_size=3, stride=2)\n",
        "        x = self.Mixed_5b(x)\n",
        "        x = self.Mixed_5c(x)\n",
        "        x = self.Mixed_5d(x)\n",
        "        x = self.Mixed_6a(x)\n",
        "        x = self.Mixed_6b(x)\n",
        "        x = self.Mixed_6c(x)\n",
        "        x = self.Mixed_6d(x)\n",
        "        x = self.Mixed_6e(x)\n",
        "        x = self.Mixed_7a(x)\n",
        "        x = self.Mixed_7b(x)\n",
        "        x_for_attn = x = self.Mixed_7c(x)\n",
        "        # 8 x 8 x 2048\n",
        "        x = F.avg_pool2d(x, kernel_size=8)\n",
        "        # 1 x 1 x 2048\n",
        "        x_for_capt = x = x.view(x.size(0), -1)\n",
        "        # 2048\n",
        "        x = self.fc(x)\n",
        "        # 1000 (num_classes)\n",
        "        return x_for_attn, x_for_capt, x\n",
        "    \n",
        "from torch.utils.model_zoo import load_url\n",
        "def beheaded_inception_v3(transform_input=True):\n",
        "    model= BeheadedInception3(transform_input=transform_input)\n",
        "    inception_url = 'https://download.pytorch.org/models/inception_v3_google-1a9a5a14.pth'\n",
        "    model.load_state_dict(load_url(inception_url))\n",
        "    return model"
      ],
      "execution_count": null,
      "outputs": []
    },
    {
      "cell_type": "code",
      "metadata": {
        "id": "iOsYPkESe-F2",
        "colab_type": "code",
        "colab": {}
      },
      "source": [
        "# load inseption\n",
        "inception = beheaded_inception_v3().train(False)"
      ],
      "execution_count": null,
      "outputs": []
    },
    {
      "cell_type": "markdown",
      "metadata": {
        "id": "EZhdEX_4VVwh",
        "colab_type": "text"
      },
      "source": [
        "## Beam search decoding"
      ]
    },
    {
      "cell_type": "code",
      "metadata": {
        "id": "RSLuE_NFiiS3",
        "colab_type": "code",
        "colab": {}
      },
      "source": [
        "def beam_search_decoding(batch_size, max_target_len, image, model, n_tokens):\n",
        "\n",
        "    assert isinstance(image, np.ndarray) and np.max(image) <= 1\\\n",
        "           and np.min(image) >=0 and image.shape[-1] == 3\n",
        "\n",
        "    with torch.no_grad():\n",
        "        image = torch.tensor(image.transpose([2, 0, 1]), dtype=torch.float32)\n",
        "\n",
        "        vectors_8x8, vectors_neck, logits = inception(image[None])\n",
        "\n",
        "        softmax = torch.nn.Softmax(1)\n",
        "\n",
        "        # Initial hidden: images vector\n",
        "        initial_cell = model.cnn_to_c0(vectors_neck.cuda()) # shape: (batch_size * 256)\n",
        "        initial_hid = model.cnn_to_h0(vectors_neck.cuda()) \n",
        "        decoder_hidden = (initial_hid.unsqueeze(0), initial_cell.unsqueeze(0))\n",
        "\n",
        "        # list to collect outputs\n",
        "        outputs = []\n",
        "\n",
        "        # Init caption tensor with ones (one equals SOS index value)\n",
        "        caption = torch.ones(batch_size, 17, dtype=torch.long).cuda()\n",
        "\n",
        "        # First input to the decoder is the <sos> tokens\n",
        "        t_caption = caption[:, 0]\n",
        "\n",
        "\n",
        "        # Generate caption in loop with max caption length\n",
        "        for t in range(1, max_target_len): # TODO: max_target_len --> captions.size(1)\n",
        "\n",
        "            # Forward batch of sequences through decoder one time step at a time\n",
        "            decoder_output_logits, decoder_hidden = model(captions_ix=t_caption, hidden=decoder_hidden)\n",
        "            \n",
        "            # Apply the softmax to the logits to get the probabilities of the characters\n",
        "            t_caption_prob = softmax(decoder_output_logits.squeeze(1))\n",
        "            \n",
        "            # Get the most likely word index\n",
        "            t_caption = torch.argmax(decoder_output_logits.squeeze(1), 1)\n",
        "\n",
        "            # Stop decoding if EOS index \n",
        "            if t_caption.item() == 2: \n",
        "                break\n",
        "\n",
        "            # Collect decoded indexes\n",
        "            outputs.append(t_caption.item())\n",
        "\n",
        "            \n",
        "\n",
        "    # Decode indexes to words according to vocabulary\n",
        "    return ' '.join([CAP_VOC.index2word[idx] for idx in outputs])"
      ],
      "execution_count": 158,
      "outputs": []
    },
    {
      "cell_type": "code",
      "metadata": {
        "id": "xHYEQ4Nh7j8t",
        "colab_type": "code",
        "colab": {
          "base_uri": "https://localhost:8080/",
          "height": 295
        },
        "outputId": "bd93959d-cbe9-48c2-e2fe-4237f45d64f9"
      },
      "source": [
        "from matplotlib import pyplot as plt\n",
        "\n",
        "import skimage.transform\n",
        "%matplotlib inline\n",
        "\n",
        "#sample image\n",
        "! wget https://pixel.nymag.com/imgs/daily/selectall/2018/02/12/12-tony-hawk.w710.h473.jpg -O img.jpg\n",
        "img = plt.imread('img.jpg')\n",
        "img =  skimage.transform.resize(img, (299, 299))"
      ],
      "execution_count": 162,
      "outputs": [
        {
          "output_type": "stream",
          "text": [
            "--2020-07-02 12:22:33--  https://pixel.nymag.com/imgs/daily/selectall/2018/02/12/12-tony-hawk.w710.h473.jpg\n",
            "Resolving pixel.nymag.com (pixel.nymag.com)... 151.101.196.70\n",
            "Connecting to pixel.nymag.com (pixel.nymag.com)|151.101.196.70|:443... connected.\n",
            "HTTP request sent, awaiting response... 301 Moved Permanently\n",
            "Location: https://pyxis.nymag.com/v1/imgs/6ac/2a6/b48d3a180f333298f5bee60ff80f4ba886-12-tony-hawk.h473.w710.jpg [following]\n",
            "--2020-07-02 12:22:33--  https://pyxis.nymag.com/v1/imgs/6ac/2a6/b48d3a180f333298f5bee60ff80f4ba886-12-tony-hawk.h473.w710.jpg\n",
            "Resolving pyxis.nymag.com (pyxis.nymag.com)... 151.101.2.217, 151.101.66.217, 151.101.130.217, ...\n",
            "Connecting to pyxis.nymag.com (pyxis.nymag.com)|151.101.2.217|:443... connected.\n",
            "HTTP request sent, awaiting response... 200 OK\n",
            "Length: 54731 (53K) [image/jpeg]\n",
            "Saving to: ‘img.jpg’\n",
            "\n",
            "\rimg.jpg               0%[                    ]       0  --.-KB/s               \rimg.jpg             100%[===================>]  53.45K  --.-KB/s    in 0.03s   \n",
            "\n",
            "2020-07-02 12:22:33 (2.03 MB/s) - ‘img.jpg’ saved [54731/54731]\n",
            "\n"
          ],
          "name": "stdout"
        }
      ]
    },
    {
      "cell_type": "code",
      "metadata": {
        "id": "mVmqRy0Iesek",
        "colab_type": "code",
        "colab": {
          "base_uri": "https://localhost:8080/",
          "height": 35
        },
        "outputId": "7292b41d-8406-41bc-f46d-87307d5cb7b3"
      },
      "source": [
        "print(beam_search_decoding(batch_size=1, max_target_len=17, image=img, model=network2, n_tokens=n_tokens))"
      ],
      "execution_count": 164,
      "outputs": [
        {
          "output_type": "stream",
          "text": [
            "a man doing a trick on a skateboard .\n"
          ],
          "name": "stdout"
        }
      ]
    },
    {
      "cell_type": "code",
      "metadata": {
        "id": "gsrGaCjffLrp",
        "colab_type": "code",
        "colab": {
          "base_uri": "https://localhost:8080/",
          "height": 287
        },
        "outputId": "93428a8c-679b-4e3e-ec6e-980edd04418c"
      },
      "source": [
        "plt.imshow(img) "
      ],
      "execution_count": 163,
      "outputs": [
        {
          "output_type": "execute_result",
          "data": {
            "text/plain": [
              "<matplotlib.image.AxesImage at 0x7f9d06265d68>"
            ]
          },
          "metadata": {
            "tags": []
          },
          "execution_count": 163
        },
        {
          "output_type": "display_data",
          "data": {
            "image/png": "[encoded data removed]",
            "text/plain": [
              "<Figure size 432x288 with 1 Axes>"
            ]
          },
          "metadata": {
            "tags": [],
            "needs_background": "light"
          }
        }
      ]
    },
    {
      "cell_type": "code",
      "metadata": {
        "id": "16AFn9EUfLgX",
        "colab_type": "code",
        "colab": {}
      },
      "source": [
        "# http://ccanimalclinic.com/wp-content/uploads/2017/07/Cat-and-dog-1.\n",
        "# https://pixel.nymag.com/imgs/daily/selectall/2018/02/12/12-tony-hawk.w710.h473.jpg"
      ],
      "execution_count": null,
      "outputs": []
    },
    {
      "cell_type": "code",
      "metadata": {
        "id": "tVUxD8Fj7jTP",
        "colab_type": "code",
        "colab": {}
      },
      "source": [
        ""
      ],
      "execution_count": null,
      "outputs": []
    },
    {
      "cell_type": "code",
      "metadata": {
        "id": "E5w3lkQH7jQi",
        "colab_type": "code",
        "colab": {}
      },
      "source": [
        ""
      ],
      "execution_count": null,
      "outputs": []
    },
    {
      "cell_type": "markdown",
      "metadata": {
        "id": "eKrkek8N7loN",
        "colab_type": "text"
      },
      "source": [
        "/__________________________________________________________________________/\n"
      ]
    }
  ]
}